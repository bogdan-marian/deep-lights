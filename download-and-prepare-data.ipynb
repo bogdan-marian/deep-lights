{
 "cells": [
  {
   "cell_type": "markdown",
   "metadata": {},
   "source": [
    "# dowunload and prepare the data\n"
   ]
  },
  {
   "cell_type": "code",
   "execution_count": 16,
   "metadata": {},
   "outputs": [
    {
     "name": "stdout",
     "output_type": "stream",
     "text": [
      "https://hci.iwr.uni-heidelberg.de/system/files/private/datasets/283804895/dataset_additional_riib.zip\n",
      "https://hci.iwr.uni-heidelberg.de/system/files/private/datasets/470246335/dataset_additional_rgb.zip\n"
     ]
    }
   ],
   "source": [
    "import os\n",
    "import urllib.request\n",
    "\n",
    "bosh_file = \"bosch-links.txt\"\n",
    "bosh_links = None\n",
    "BOSH_DATA = \"bosh-data\"\n",
    "url_opener = urllib.request.URLopener()\n",
    "\n",
    "\n",
    "with open(bosh_file) as f:\n",
    "    bosh_links = f.readlines()\n",
    "bosh_links = [x.strip() for x in bosh_links]\n",
    "\n",
    "count = 1;\n",
    "for index, link in enumerate(bosh_links):\n",
    "    #command = \"wget \" + link + \" ./\"+BOSH_DATA+\"/\"\n",
    "    #os.system(command)\n",
    "    print (link)\n",
    "    \n",
    "    "
   ]
  },
  {
   "cell_type": "code",
   "execution_count": null,
   "metadata": {},
   "outputs": [],
   "source": []
  }
 ],
 "metadata": {
  "kernelspec": {
   "display_name": "Python 3",
   "language": "python",
   "name": "python3"
  },
  "language_info": {
   "codemirror_mode": {
    "name": "ipython",
    "version": 3
   },
   "file_extension": ".py",
   "mimetype": "text/x-python",
   "name": "python",
   "nbconvert_exporter": "python",
   "pygments_lexer": "ipython3",
   "version": "3.5.2"
  }
 },
 "nbformat": 4,
 "nbformat_minor": 2
}
